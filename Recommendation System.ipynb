{
 "cells": [
  {
   "cell_type": "markdown",
   "metadata": {},
   "source": [
    "## MOVIES RECOMENDATION SYSTEM PROJECT\n",
    "#### GROUP 3\n",
    "##### Group Members:\n",
    "      Gideon Ochieng\n",
    "      Lorna Wangui\n",
    "      Ann Mwangi\n",
    "      Charles Odhiambo\n",
    "      Victor Masinde\n"
   ]
  },
  {
   "cell_type": "markdown",
   "metadata": {},
   "source": [
    "### Project Overview\n",
    "An international powerhouse, the film business brings in billions of dollars every year. According to Statista, the worldwide box office brought in an incredible $42.5 billion in 2019 alone. Film production, which include studios, independent producers, and streaming services, is the creative centre where motion pictures, television series, and other visual content are made. These works are marketed and delivered to theatres, streaming platforms, and other locations by the distribution division. The term \"exhibition\" describes the showing of films and television series in theatres. The allure of films is universal, bringing people from different origins together. Despite this widespread appeal, our individual film preferences are distinctive, ranging from romance to sci-fi to thrillers, and frequently focussing on our favourite actors and filmmakers."
   ]
  },
  {
   "cell_type": "markdown",
   "metadata": {},
   "source": [
    "### Business Understanding\n",
    "#### Real-World Problem\n",
    "In an era where streaming platforms dominate the entertainment landscape, users often face difficulty in selecting movies due to the overwhelming number of choices available. This leads to \"choice paralysis,\" where the sheer volume of options prevents users from making satisfying decisions. A recommendation system can address this by providing personalized movie suggestions based on a user’s past ratings, making their movie-watching experience more enjoyable and efficient.\n",
    "\n",
    "#### Stakeholders\n",
    "Primary Stakeholders:\n",
    "\n",
    "End Users: Individuals who need personalized recommendations to find movies they are likely to enjoy.\n",
    "Streaming Platforms: Businesses looking to enhance user engagement and retention by offering tailored recommendations.\n",
    "\n",
    "Secondary Stakeholders:\n",
    "\n",
    "Movie Studios: Studios seeking insights into audience preferences to guide future productions.\n",
    "Market Researchers: Analysts studying consumer behavior through movie preferences and trends.\n",
    "Project Value\n",
    "The project will solve the problem of overwhelming choice by providing users with a personalized top-5 list of movie recommendations. It will:\n",
    "\n",
    "Enhance user satisfaction by reducing time spent searching for movies.\n",
    "Improve user engagement for streaming platforms, leading to higher retention rates.\n",
    "Help streaming platforms and studios understand user preferences, informing content strategies and acquisitions.\n",
    "Business Goals\n",
    "Create a recommendation system using collaborative filtering to predict user preferences.\n",
    "Provide an easy-to-use interface where users can input ratings for movies they've watched.\n",
    "Ensure the system addresses the \"cold start\" problem for new users by incorporating content-based techniques.\n",
    "\n",
    "Conclusion\n",
    "\n",
    "The recommendation system will make movie selection faster and more satisfying for users, while also providing business value to streaming platforms and studios by increasing engagement and understanding consumer preferences."
   ]
  },
  {
   "cell_type": "markdown",
   "metadata": {},
   "source": [
    "### Data Understanding\n",
    "\n",
    "The project uses the **MovieLens dataset**, a widely used dataset from the **GroupLens research lab** at the University of Minnesota."
   ]
  },
  {
   "cell_type": "code",
   "execution_count": 73,
   "metadata": {},
   "outputs": [],
   "source": [
    "# Importing necessary libraries\n",
    "import pandas as pd\n",
    "import numpy as np\n",
    "import matplotlib.pyplot as plt\n",
    "import seaborn as sns\n",
    "from surprise import SVD, KNNBasic\n",
    "from surprise.model_selection import train_test_split"
   ]
  },
  {
   "cell_type": "code",
   "execution_count": 74,
   "metadata": {},
   "outputs": [],
   "source": [
    "# Load the datasets into DataFrames\n",
    "movies_df = pd.read_csv('ml-latest-small/movies.csv')\n",
    "ratings_df = pd.read_csv('ml-latest-small/ratings.csv')\n",
    "link_df = pd.read_csv('ml-latest-small/links.csv')\n",
    "tags_df = pd.read_csv('ml-latest-small/tags.csv')\n"
   ]
  },
  {
   "cell_type": "markdown",
   "metadata": {},
   "source": [
    "#### Movies dataset"
   ]
  },
  {
   "cell_type": "markdown",
   "metadata": {},
   "source": [
    "### Movies Dataset Overview\n",
    "\n",
    "The dataset contains 9,742 entries and three columns:\n",
    "\n",
    "1. movieId (int64): Unique identifiers for movies.\n",
    "2. title (object): Movie titles.\n",
    "3. genres (object): Genres associated with each movie.\n",
    "\n",
    "All columns have 9,742 non-null values."
   ]
  },
  {
   "cell_type": "code",
   "execution_count": 75,
   "metadata": {},
   "outputs": [
    {
     "name": "stdout",
     "output_type": "stream",
     "text": [
      "<class 'pandas.core.frame.DataFrame'>\n",
      "RangeIndex: 9742 entries, 0 to 9741\n",
      "Data columns (total 3 columns):\n",
      " #   Column   Non-Null Count  Dtype \n",
      "---  ------   --------------  ----- \n",
      " 0   movieId  9742 non-null   int64 \n",
      " 1   title    9742 non-null   object\n",
      " 2   genres   9742 non-null   object\n",
      "dtypes: int64(1), object(2)\n",
      "memory usage: 228.5+ KB\n"
     ]
    }
   ],
   "source": [
    "# Display a concise summary of the movies_df DataFrame\n",
    "movies_df.info()"
   ]
  },
  {
   "cell_type": "code",
   "execution_count": 76,
   "metadata": {},
   "outputs": [
    {
     "data": {
      "text/plain": [
       "(9742, 3)"
      ]
     },
     "execution_count": 76,
     "metadata": {},
     "output_type": "execute_result"
    }
   ],
   "source": [
    "# Get the dimensions of the movies_df DataFrame\n",
    "movies_df.shape"
   ]
  },
  {
   "cell_type": "markdown",
   "metadata": {},
   "source": [
    "#### Ratings Dataset"
   ]
  },
  {
   "cell_type": "markdown",
   "metadata": {},
   "source": [
    "### Ratings Dataset Overview\n",
    "\n",
    "The ratings_df DataFrame contains *100,836 entries* with the following columns:\n",
    "\n",
    "- *userId*: Unique identifier for users (int64)\n",
    "- *movieId*: Unique identifier for movies (int64)\n",
    "- *rating*: User's rating for the movie (float64)\n",
    "- *timestamp*: Timestamp of the rating (int64)"
   ]
  },
  {
   "cell_type": "code",
   "execution_count": 77,
   "metadata": {},
   "outputs": [
    {
     "name": "stdout",
     "output_type": "stream",
     "text": [
      "<class 'pandas.core.frame.DataFrame'>\n",
      "RangeIndex: 100836 entries, 0 to 100835\n",
      "Data columns (total 4 columns):\n",
      " #   Column     Non-Null Count   Dtype  \n",
      "---  ------     --------------   -----  \n",
      " 0   userId     100836 non-null  int64  \n",
      " 1   movieId    100836 non-null  int64  \n",
      " 2   rating     100836 non-null  float64\n",
      " 3   timestamp  100836 non-null  int64  \n",
      "dtypes: float64(1), int64(3)\n",
      "memory usage: 3.1 MB\n"
     ]
    },
    {
     "data": {
      "text/html": [
       "<div>\n",
       "<style scoped>\n",
       "    .dataframe tbody tr th:only-of-type {\n",
       "        vertical-align: middle;\n",
       "    }\n",
       "\n",
       "    .dataframe tbody tr th {\n",
       "        vertical-align: top;\n",
       "    }\n",
       "\n",
       "    .dataframe thead th {\n",
       "        text-align: right;\n",
       "    }\n",
       "</style>\n",
       "<table border=\"1\" class=\"dataframe\">\n",
       "  <thead>\n",
       "    <tr style=\"text-align: right;\">\n",
       "      <th></th>\n",
       "      <th>userId</th>\n",
       "      <th>movieId</th>\n",
       "      <th>rating</th>\n",
       "      <th>timestamp</th>\n",
       "    </tr>\n",
       "  </thead>\n",
       "  <tbody>\n",
       "    <tr>\n",
       "      <th>0</th>\n",
       "      <td>1</td>\n",
       "      <td>1</td>\n",
       "      <td>4.0</td>\n",
       "      <td>964982703</td>\n",
       "    </tr>\n",
       "    <tr>\n",
       "      <th>1</th>\n",
       "      <td>1</td>\n",
       "      <td>3</td>\n",
       "      <td>4.0</td>\n",
       "      <td>964981247</td>\n",
       "    </tr>\n",
       "    <tr>\n",
       "      <th>2</th>\n",
       "      <td>1</td>\n",
       "      <td>6</td>\n",
       "      <td>4.0</td>\n",
       "      <td>964982224</td>\n",
       "    </tr>\n",
       "    <tr>\n",
       "      <th>3</th>\n",
       "      <td>1</td>\n",
       "      <td>47</td>\n",
       "      <td>5.0</td>\n",
       "      <td>964983815</td>\n",
       "    </tr>\n",
       "  </tbody>\n",
       "</table>\n",
       "</div>"
      ],
      "text/plain": [
       "   userId  movieId  rating  timestamp\n",
       "0       1        1     4.0  964982703\n",
       "1       1        3     4.0  964981247\n",
       "2       1        6     4.0  964982224\n",
       "3       1       47     5.0  964983815"
      ]
     },
     "execution_count": 77,
     "metadata": {},
     "output_type": "execute_result"
    }
   ],
   "source": [
    "# Display a concise summary of the ratings_df DataFrame\n",
    "# Display the first 4 rows of the ratings_df DataFrame\n",
    "ratings_df.info()\n",
    "ratings_df.head(4)\n"
   ]
  },
  {
   "cell_type": "code",
   "execution_count": 78,
   "metadata": {},
   "outputs": [
    {
     "data": {
      "text/plain": [
       "(100836, 4)"
      ]
     },
     "execution_count": 78,
     "metadata": {},
     "output_type": "execute_result"
    }
   ],
   "source": [
    "# Get the dimensions of the ratings_df DataFrame\n",
    "ratings_df.shape"
   ]
  },
  {
   "cell_type": "markdown",
   "metadata": {},
   "source": [
    "#### Tags Dataset"
   ]
  },
  {
   "cell_type": "markdown",
   "metadata": {},
   "source": [
    "### Tags Dataset Overview\n",
    "\n",
    "The tags_df DataFrame contains *3,683 entries* with the following columns:\n",
    "\n",
    "- *userId*: Unique identifier for users (int64)\n",
    "- *movieId*: Unique identifier for movies (int64)\n",
    "- *tag*: User-provided tag for the movie (object)\n",
    "- *timestamp*: Timestamp of the tag (int64)"
   ]
  },
  {
   "cell_type": "code",
   "execution_count": 79,
   "metadata": {},
   "outputs": [
    {
     "name": "stdout",
     "output_type": "stream",
     "text": [
      "<class 'pandas.core.frame.DataFrame'>\n",
      "RangeIndex: 3683 entries, 0 to 3682\n",
      "Data columns (total 4 columns):\n",
      " #   Column     Non-Null Count  Dtype \n",
      "---  ------     --------------  ----- \n",
      " 0   userId     3683 non-null   int64 \n",
      " 1   movieId    3683 non-null   int64 \n",
      " 2   tag        3683 non-null   object\n",
      " 3   timestamp  3683 non-null   int64 \n",
      "dtypes: int64(3), object(1)\n",
      "memory usage: 115.2+ KB\n"
     ]
    }
   ],
   "source": [
    "# Display a concise summary of the tags_df DataFrame\n",
    "tags_df.info()"
   ]
  },
  {
   "cell_type": "code",
   "execution_count": 80,
   "metadata": {},
   "outputs": [
    {
     "data": {
      "text/plain": [
       "(3683, 4)"
      ]
     },
     "execution_count": 80,
     "metadata": {},
     "output_type": "execute_result"
    }
   ],
   "source": [
    "# Get the dimensions of the tags_df DataFrame\n",
    "tags_df.shape"
   ]
  },
  {
   "cell_type": "markdown",
   "metadata": {},
   "source": [
    "#### Links Dataset"
   ]
  },
  {
   "cell_type": "markdown",
   "metadata": {},
   "source": [
    "### Links Dataset Overview\n",
    "\n",
    "The link_df DataFrame contains *9,742 entries* with the following columns:\n",
    "\n",
    "- *movieId*: Unique identifier for movies (int64)\n",
    "- *imdbId*: Identifier for movies in the IMDb database (int64)\n",
    "- *tmdbId*: Identifier for movies in the TMDb database (float64)"
   ]
  },
  {
   "cell_type": "code",
   "execution_count": 81,
   "metadata": {},
   "outputs": [
    {
     "name": "stdout",
     "output_type": "stream",
     "text": [
      "<class 'pandas.core.frame.DataFrame'>\n",
      "RangeIndex: 9742 entries, 0 to 9741\n",
      "Data columns (total 3 columns):\n",
      " #   Column   Non-Null Count  Dtype  \n",
      "---  ------   --------------  -----  \n",
      " 0   movieId  9742 non-null   int64  \n",
      " 1   imdbId   9742 non-null   int64  \n",
      " 2   tmdbId   9734 non-null   float64\n",
      "dtypes: float64(1), int64(2)\n",
      "memory usage: 228.5 KB\n"
     ]
    }
   ],
   "source": [
    "# Display a concise summary of the link_df DataFrame\n",
    "link_df.info()"
   ]
  },
  {
   "cell_type": "code",
   "execution_count": 82,
   "metadata": {},
   "outputs": [
    {
     "data": {
      "text/plain": [
       "(9742, 3)"
      ]
     },
     "execution_count": 82,
     "metadata": {},
     "output_type": "execute_result"
    }
   ],
   "source": [
    "# Get the dimensions of the link_df DataFrame\n",
    "link_df.shape"
   ]
  },
  {
   "cell_type": "markdown",
   "metadata": {},
   "source": [
    "## DATA CLEANING\n",
    "\n",
    "- Merge datasets\n",
    "- Check for missing values and imputing them\n",
    "- Checking for duplicates\n",
    "- Drop irrelevant columns\n"
   ]
  },
  {
   "cell_type": "markdown",
   "metadata": {},
   "source": [
    "### Merging Movies and Ratings Datasets\n",
    "\n",
    "The movies_df and ratings_df DataFrames are merged using the movieId column as the key. The merge operation is performed with an *inner join*, ensuring that only movies with corresponding ratings are included in the resulting DataFrame."
   ]
  },
  {
   "cell_type": "code",
   "execution_count": 83,
   "metadata": {},
   "outputs": [
    {
     "data": {
      "text/html": [
       "<div>\n",
       "<style scoped>\n",
       "    .dataframe tbody tr th:only-of-type {\n",
       "        vertical-align: middle;\n",
       "    }\n",
       "\n",
       "    .dataframe tbody tr th {\n",
       "        vertical-align: top;\n",
       "    }\n",
       "\n",
       "    .dataframe thead th {\n",
       "        text-align: right;\n",
       "    }\n",
       "</style>\n",
       "<table border=\"1\" class=\"dataframe\">\n",
       "  <thead>\n",
       "    <tr style=\"text-align: right;\">\n",
       "      <th></th>\n",
       "      <th>movieId</th>\n",
       "      <th>title</th>\n",
       "      <th>genres</th>\n",
       "      <th>userId</th>\n",
       "      <th>rating</th>\n",
       "      <th>timestamp</th>\n",
       "    </tr>\n",
       "  </thead>\n",
       "  <tbody>\n",
       "    <tr>\n",
       "      <th>0</th>\n",
       "      <td>1</td>\n",
       "      <td>Toy Story (1995)</td>\n",
       "      <td>Adventure|Animation|Children|Comedy|Fantasy</td>\n",
       "      <td>1</td>\n",
       "      <td>4.0</td>\n",
       "      <td>964982703</td>\n",
       "    </tr>\n",
       "    <tr>\n",
       "      <th>1</th>\n",
       "      <td>1</td>\n",
       "      <td>Toy Story (1995)</td>\n",
       "      <td>Adventure|Animation|Children|Comedy|Fantasy</td>\n",
       "      <td>5</td>\n",
       "      <td>4.0</td>\n",
       "      <td>847434962</td>\n",
       "    </tr>\n",
       "    <tr>\n",
       "      <th>2</th>\n",
       "      <td>1</td>\n",
       "      <td>Toy Story (1995)</td>\n",
       "      <td>Adventure|Animation|Children|Comedy|Fantasy</td>\n",
       "      <td>7</td>\n",
       "      <td>4.5</td>\n",
       "      <td>1106635946</td>\n",
       "    </tr>\n",
       "    <tr>\n",
       "      <th>3</th>\n",
       "      <td>1</td>\n",
       "      <td>Toy Story (1995)</td>\n",
       "      <td>Adventure|Animation|Children|Comedy|Fantasy</td>\n",
       "      <td>15</td>\n",
       "      <td>2.5</td>\n",
       "      <td>1510577970</td>\n",
       "    </tr>\n",
       "    <tr>\n",
       "      <th>4</th>\n",
       "      <td>1</td>\n",
       "      <td>Toy Story (1995)</td>\n",
       "      <td>Adventure|Animation|Children|Comedy|Fantasy</td>\n",
       "      <td>17</td>\n",
       "      <td>4.5</td>\n",
       "      <td>1305696483</td>\n",
       "    </tr>\n",
       "  </tbody>\n",
       "</table>\n",
       "</div>"
      ],
      "text/plain": [
       "   movieId             title                                       genres  \\\n",
       "0        1  Toy Story (1995)  Adventure|Animation|Children|Comedy|Fantasy   \n",
       "1        1  Toy Story (1995)  Adventure|Animation|Children|Comedy|Fantasy   \n",
       "2        1  Toy Story (1995)  Adventure|Animation|Children|Comedy|Fantasy   \n",
       "3        1  Toy Story (1995)  Adventure|Animation|Children|Comedy|Fantasy   \n",
       "4        1  Toy Story (1995)  Adventure|Animation|Children|Comedy|Fantasy   \n",
       "\n",
       "   userId  rating   timestamp  \n",
       "0       1     4.0   964982703  \n",
       "1       5     4.0   847434962  \n",
       "2       7     4.5  1106635946  \n",
       "3      15     2.5  1510577970  \n",
       "4      17     4.5  1305696483  "
      ]
     },
     "execution_count": 83,
     "metadata": {},
     "output_type": "execute_result"
    }
   ],
   "source": [
    "# Merge the movies_df with ratings_df on movieId\n",
    "df=pd.merge(movies_df,ratings_df,on=\"movieId\",how=\"inner\")\n",
    "df.head()"
   ]
  },
  {
   "cell_type": "code",
   "execution_count": 84,
   "metadata": {},
   "outputs": [
    {
     "name": "stdout",
     "output_type": "stream",
     "text": [
      "<class 'pandas.core.frame.DataFrame'>\n",
      "Int64Index: 100836 entries, 0 to 100835\n",
      "Data columns (total 6 columns):\n",
      " #   Column     Non-Null Count   Dtype  \n",
      "---  ------     --------------   -----  \n",
      " 0   movieId    100836 non-null  int64  \n",
      " 1   title      100836 non-null  object \n",
      " 2   genres     100836 non-null  object \n",
      " 3   userId     100836 non-null  int64  \n",
      " 4   rating     100836 non-null  float64\n",
      " 5   timestamp  100836 non-null  int64  \n",
      "dtypes: float64(1), int64(3), object(2)\n",
      "memory usage: 5.4+ MB\n"
     ]
    }
   ],
   "source": [
    "# Basic information about the merged dataframes\n",
    "df.info()"
   ]
  },
  {
   "cell_type": "code",
   "execution_count": 85,
   "metadata": {},
   "outputs": [
    {
     "data": {
      "text/plain": [
       "(100836, 6)"
      ]
     },
     "execution_count": 85,
     "metadata": {},
     "output_type": "execute_result"
    }
   ],
   "source": [
    "# Size of merged dataframe\n",
    "df.shape"
   ]
  },
  {
   "cell_type": "code",
   "execution_count": 86,
   "metadata": {},
   "outputs": [
    {
     "data": {
      "text/plain": [
       "Index(['movieId', 'title', 'genres', 'userId', 'rating', 'timestamp'], dtype='object')"
      ]
     },
     "execution_count": 86,
     "metadata": {},
     "output_type": "execute_result"
    }
   ],
   "source": [
    "# checking the columns in the merged dataframe\n",
    "df.columns"
   ]
  },
  {
   "cell_type": "code",
   "execution_count": 87,
   "metadata": {},
   "outputs": [
    {
     "data": {
      "text/html": [
       "<div>\n",
       "<style scoped>\n",
       "    .dataframe tbody tr th:only-of-type {\n",
       "        vertical-align: middle;\n",
       "    }\n",
       "\n",
       "    .dataframe tbody tr th {\n",
       "        vertical-align: top;\n",
       "    }\n",
       "\n",
       "    .dataframe thead th {\n",
       "        text-align: right;\n",
       "    }\n",
       "</style>\n",
       "<table border=\"1\" class=\"dataframe\">\n",
       "  <thead>\n",
       "    <tr style=\"text-align: right;\">\n",
       "      <th></th>\n",
       "      <th>movieId</th>\n",
       "      <th>userId</th>\n",
       "      <th>rating</th>\n",
       "      <th>timestamp</th>\n",
       "    </tr>\n",
       "  </thead>\n",
       "  <tbody>\n",
       "    <tr>\n",
       "      <th>count</th>\n",
       "      <td>100836.000000</td>\n",
       "      <td>100836.000000</td>\n",
       "      <td>100836.000000</td>\n",
       "      <td>1.008360e+05</td>\n",
       "    </tr>\n",
       "    <tr>\n",
       "      <th>mean</th>\n",
       "      <td>19435.295718</td>\n",
       "      <td>326.127564</td>\n",
       "      <td>3.501557</td>\n",
       "      <td>1.205946e+09</td>\n",
       "    </tr>\n",
       "    <tr>\n",
       "      <th>std</th>\n",
       "      <td>35530.987199</td>\n",
       "      <td>182.618491</td>\n",
       "      <td>1.042529</td>\n",
       "      <td>2.162610e+08</td>\n",
       "    </tr>\n",
       "    <tr>\n",
       "      <th>min</th>\n",
       "      <td>1.000000</td>\n",
       "      <td>1.000000</td>\n",
       "      <td>0.500000</td>\n",
       "      <td>8.281246e+08</td>\n",
       "    </tr>\n",
       "    <tr>\n",
       "      <th>25%</th>\n",
       "      <td>1199.000000</td>\n",
       "      <td>177.000000</td>\n",
       "      <td>3.000000</td>\n",
       "      <td>1.019124e+09</td>\n",
       "    </tr>\n",
       "    <tr>\n",
       "      <th>50%</th>\n",
       "      <td>2991.000000</td>\n",
       "      <td>325.000000</td>\n",
       "      <td>3.500000</td>\n",
       "      <td>1.186087e+09</td>\n",
       "    </tr>\n",
       "    <tr>\n",
       "      <th>75%</th>\n",
       "      <td>8122.000000</td>\n",
       "      <td>477.000000</td>\n",
       "      <td>4.000000</td>\n",
       "      <td>1.435994e+09</td>\n",
       "    </tr>\n",
       "    <tr>\n",
       "      <th>max</th>\n",
       "      <td>193609.000000</td>\n",
       "      <td>610.000000</td>\n",
       "      <td>5.000000</td>\n",
       "      <td>1.537799e+09</td>\n",
       "    </tr>\n",
       "  </tbody>\n",
       "</table>\n",
       "</div>"
      ],
      "text/plain": [
       "             movieId         userId         rating     timestamp\n",
       "count  100836.000000  100836.000000  100836.000000  1.008360e+05\n",
       "mean    19435.295718     326.127564       3.501557  1.205946e+09\n",
       "std     35530.987199     182.618491       1.042529  2.162610e+08\n",
       "min         1.000000       1.000000       0.500000  8.281246e+08\n",
       "25%      1199.000000     177.000000       3.000000  1.019124e+09\n",
       "50%      2991.000000     325.000000       3.500000  1.186087e+09\n",
       "75%      8122.000000     477.000000       4.000000  1.435994e+09\n",
       "max    193609.000000     610.000000       5.000000  1.537799e+09"
      ]
     },
     "execution_count": 87,
     "metadata": {},
     "output_type": "execute_result"
    }
   ],
   "source": [
    "# Merged dataset description\n",
    "df.describe()"
   ]
  },
  {
   "cell_type": "code",
   "execution_count": 88,
   "metadata": {},
   "outputs": [
    {
     "data": {
      "text/plain": [
       "0"
      ]
     },
     "execution_count": 88,
     "metadata": {},
     "output_type": "execute_result"
    }
   ],
   "source": [
    "# checking for duplicates in the dataframe\n",
    "df.duplicated().sum()"
   ]
  },
  {
   "cell_type": "code",
   "execution_count": 89,
   "metadata": {},
   "outputs": [
    {
     "data": {
      "text/plain": [
       "movieId      0\n",
       "title        0\n",
       "genres       0\n",
       "userId       0\n",
       "rating       0\n",
       "timestamp    0\n",
       "dtype: int64"
      ]
     },
     "execution_count": 89,
     "metadata": {},
     "output_type": "execute_result"
    }
   ],
   "source": [
    "# checking for missing values\n",
    "df.isnull().sum()"
   ]
  },
  {
   "cell_type": "code",
   "execution_count": 90,
   "metadata": {},
   "outputs": [
    {
     "data": {
      "text/html": [
       "<div>\n",
       "<style scoped>\n",
       "    .dataframe tbody tr th:only-of-type {\n",
       "        vertical-align: middle;\n",
       "    }\n",
       "\n",
       "    .dataframe tbody tr th {\n",
       "        vertical-align: top;\n",
       "    }\n",
       "\n",
       "    .dataframe thead th {\n",
       "        text-align: right;\n",
       "    }\n",
       "</style>\n",
       "<table border=\"1\" class=\"dataframe\">\n",
       "  <thead>\n",
       "    <tr style=\"text-align: right;\">\n",
       "      <th></th>\n",
       "      <th>movieId</th>\n",
       "      <th>title</th>\n",
       "      <th>genres</th>\n",
       "      <th>userId</th>\n",
       "      <th>rating</th>\n",
       "      <th>timestamp</th>\n",
       "    </tr>\n",
       "  </thead>\n",
       "  <tbody>\n",
       "  </tbody>\n",
       "</table>\n",
       "</div>"
      ],
      "text/plain": [
       "Empty DataFrame\n",
       "Columns: [movieId, title, genres, userId, rating, timestamp]\n",
       "Index: []"
      ]
     },
     "execution_count": 90,
     "metadata": {},
     "output_type": "execute_result"
    }
   ],
   "source": [
    "# Identify duplicated rows in the DataFrame 'df' based on the 'userId' and 'movieId' columns\n",
    "duplicated_rows = df[df.duplicated(subset=['userId','movieId'])]\n",
    "duplicated_rows"
   ]
  },
  {
   "cell_type": "markdown",
   "metadata": {},
   "source": [
    "### EDA"
   ]
  },
  {
   "cell_type": "markdown",
   "metadata": {},
   "source": [
    "### Identifying Popular Movies\n",
    "\n",
    "To determine the most popular movies, the title column in the merged DataFrame (df) is analyzed using the value_counts() method. This provides a count of how many times each movie appears in the dataset, effectively ranking movies based on the number of ratings they have received."
   ]
  },
  {
   "cell_type": "code",
   "execution_count": 91,
   "metadata": {},
   "outputs": [
    {
     "data": {
      "text/plain": [
       "Forrest Gump (1994)                                  329\n",
       "Shawshank Redemption, The (1994)                     317\n",
       "Pulp Fiction (1994)                                  307\n",
       "Silence of the Lambs, The (1991)                     279\n",
       "Matrix, The (1999)                                   278\n",
       "                                                    ... \n",
       "Man and a Woman, A (Un homme et une femme) (1966)      1\n",
       "Wild Oats (2016)                                       1\n",
       "That Sugar Film (2014)                                 1\n",
       "Beyond Bedlam (1993)                                   1\n",
       "Youth of the Beast (Yaju no seishun) (1963)            1\n",
       "Name: title, Length: 9719, dtype: int64"
      ]
     },
     "execution_count": 91,
     "metadata": {},
     "output_type": "execute_result"
    }
   ],
   "source": [
    "# popular movies\n",
    "popular_movies = df['title'].value_counts()\n",
    "popular_movies"
   ]
  },
  {
   "cell_type": "markdown",
   "metadata": {},
   "source": [
    "## Visualizing the Most Popular Movies\n",
    "\n",
    "To understand the dataset better, we visualized the top 15 most popular movies based on the frequency of user interactions."
   ]
  },
  {
   "cell_type": "code",
   "execution_count": 92,
   "metadata": {},
   "outputs": [
    {
     "data": {
      "image/png": "[encoded data removed]",
      "text/plain": [
       "<Figure size 864x576 with 1 Axes>"
      ]
     },
     "metadata": {
      "needs_background": "light"
     },
     "output_type": "display_data"
    }
   ],
   "source": [
    "#plot for  most popular movies\n",
    "plt.figure(figsize=(12,8))\n",
    "df['title'].value_counts().head(15).plot(kind='bar',color ='blue')\n",
    "plt.title('Top 15 Popular Movies')\n",
    "plt.xlabel('Movie Titles')\n",
    "plt.ylabel('Frequency')\n",
    "plt.show()\n"
   ]
  },
  {
   "cell_type": "markdown",
   "metadata": {},
   "source": [
    "## Visualizing the Most Popular Genres Combinations\n",
    "\n",
    "To analyze user preferences across genres, we visualized the top 15 genres combinations based on their frequency in the dataset.\n"
   ]
  },
  {
   "cell_type": "code",
   "execution_count": 93,
   "metadata": {},
   "outputs": [
    {
     "data": {
      "image/png": "[encoded data removed]",
      "text/plain": [
       "<Figure size 864x576 with 1 Axes>"
      ]
     },
     "metadata": {
      "needs_background": "light"
     },
     "output_type": "display_data"
    }
   ],
   "source": [
    "# plot for popular genres\n",
    "plt.figure(figsize=(12,8))\n",
    "df['genres'].value_counts().head(15).plot(kind='bar',color='green')\n",
    "plt.title('Top 15 Popular Genres')\n",
    "plt.ylabel('Frequency')\n",
    "plt.xlabel('Genres')\n",
    "plt.show()"
   ]
  },
  {
   "cell_type": "markdown",
   "metadata": {},
   "source": [
    "## Analyzing Genre Frequency\n",
    "\n",
    "To gain deeper insights into the diversity of genres, we computed the frequency of individual genres using the Counter class from Python’s collections module."
   ]
  },
  {
   "cell_type": "code",
   "execution_count": 94,
   "metadata": {},
   "outputs": [
    {
     "name": "stdout",
     "output_type": "stream",
     "text": [
      "There are 35 genres.\n"
     ]
    },
    {
     "data": {
      "text/plain": [
       "Counter({'A': 65929,\n",
       "         'd': 72469,\n",
       "         'v': 24161,\n",
       "         'e': 170734,\n",
       "         'n': 111181,\n",
       "         't': 84488,\n",
       "         'u': 29518,\n",
       "         'r': 183354,\n",
       "         '|': 173644,\n",
       "         'i': 137363,\n",
       "         'm': 124863,\n",
       "         'a': 142852,\n",
       "         'o': 111518,\n",
       "         'C': 64942,\n",
       "         'h': 35660,\n",
       "         'l': 67167,\n",
       "         'y': 67454,\n",
       "         'F': 29947,\n",
       "         's': 25670,\n",
       "         'R': 18124,\n",
       "         'c': 71359,\n",
       "         'D': 43147,\n",
       "         'T': 26452,\n",
       "         'H': 7291,\n",
       "         'M': 15957,\n",
       "         'S': 17243,\n",
       "         '-': 18113,\n",
       "         'W': 6789,\n",
       "         'I': 4145,\n",
       "         'X': 4145,\n",
       "         'N': 870,\n",
       "         '(': 47,\n",
       "         ' ': 94,\n",
       "         'g': 47,\n",
       "         ')': 47})"
      ]
     },
     "execution_count": 94,
     "metadata": {},
     "output_type": "execute_result"
    }
   ],
   "source": [
    "# Import the Counter class from the collections module\n",
    "# Counter is used to count the frequency of items in an iterable\n",
    "from collections import Counter\n",
    "\n",
    "# Calculate the frequency of each genre in the 'genres' column of the DataFrame\n",
    "genre_frequency = Counter(g for genres in df['genres'] for g in genres)\n",
    "\n",
    "# Print the total number of unique genres found\n",
    "print(f\"There are {len(genre_frequency)} genres.\")\n",
    "\n",
    "# Display the frequency of each genre\n",
    "genre_frequency"
   ]
  },
  {
   "cell_type": "code",
   "execution_count": 95,
   "metadata": {},
   "outputs": [
    {
     "data": {
      "image/png": "[encoded data removed]",
      "text/plain": [
       "<Figure size 432x288 with 1 Axes>"
      ]
     },
     "metadata": {
      "needs_background": "light"
     },
     "output_type": "display_data"
    }
   ],
   "source": [
    "# Convert the genre frequency Counter object into a DataFrame\n",
    "genre_frequency_df = pd.DataFrame([genre_frequency]).T.reset_index()\n",
    "genre_frequency_df.columns = ['genre', 'count']\n",
    "\n",
    "# Create a bar plot to visualize the frequency of each genre\n",
    "sns.barplot(x='genre', y='count', data=genre_frequency_df.sort_values(by='count', ascending=False))\n",
    "plt.xticks(rotation=90)\n",
    "plt.show()\n"
   ]
  },
  {
   "cell_type": "code",
   "execution_count": 96,
   "metadata": {},
   "outputs": [
    {
     "data": {
      "image/png": "[encoded data removed]",
      "text/plain": [
       "<Figure size 720x432 with 1 Axes>"
      ]
     },
     "metadata": {
      "needs_background": "light"
     },
     "output_type": "display_data"
    }
   ],
   "source": [
    "# plot for the distribution of ratings\n",
    "plt.figure(figsize=(10,6))\n",
    "sns.countplot(data=df,x='rating')\n",
    "plt.title('Distribution of Ratings')\n",
    "plt.xlabel('Rating')\n",
    "plt.ylabel('Count')\n",
    "plt.show()"
   ]
  },
  {
   "cell_type": "markdown",
   "metadata": {},
   "source": [
    "## Observed ratings per genre\n"
   ]
  },
  {
   "cell_type": "code",
   "execution_count": 97,
   "metadata": {},
   "outputs": [
    {
     "data": {
      "image/png": "[encoded data removed]",
      "text/plain": [
       "<Figure size 720x432 with 1 Axes>"
      ]
     },
     "metadata": {
      "needs_background": "light"
     },
     "output_type": "display_data"
    }
   ],
   "source": [
    "#HIGHEST RATED MOVIES\n",
    "# the average rating for each movie\n",
    "average_ratings = df.groupby('title')['rating'].mean().reset_index()\n",
    "\n",
    "# Rename the columns\n",
    "average_ratings.columns = ['title', 'avg_rating']\n",
    "\n",
    "# Sort the movies by average rating in descending order\n",
    "average_ratings = average_ratings.sort_values(by='avg_rating', ascending=False)\n",
    "\n",
    "# bar plot to visualize the top 10 movies by average rating\n",
    "plt.figure(figsize=(10, 6))\n",
    "sns.barplot(x=\"avg_rating\", y=\"title\", data=round(average_ratings.head(15), 2), palette=\"viridis\")\n",
    "plt.title(\"Top 15 Movies by Average Rating\")\n",
    "plt.xlabel(\"Average Rating\")\n",
    "plt.ylabel(\"Movie Title\")\n",
    "plt.show()"
   ]
  },
  {
   "cell_type": "code",
   "execution_count": 98,
   "metadata": {},
   "outputs": [
    {
     "data": {
      "image/png": "[encoded data removed]",
      "text/plain": [
       "<Figure size 720x432 with 1 Axes>"
      ]
     },
     "metadata": {
      "needs_background": "light"
     },
     "output_type": "display_data"
    }
   ],
   "source": [
    "# Split the 'genres' column into lists of individual genres for each movie\n",
    "df['genres'] = df['genres'].str.split('|')\n",
    "\n",
    "# Expand the DataFrame so that each genre in the list becomes a separate row\n",
    "df_exploded = df.explode('genres')\n",
    "\n",
    "# Calculate the average rating for each genre\n",
    "avg_rating_per_genre = df_exploded.groupby('genres')['rating'].mean().sort_values(ascending=False)\n",
    "\n",
    "# Plot the average rating per genre as a bar chart\n",
    "plt.figure(figsize=(10, 6))\n",
    "avg_rating_per_genre.plot(kind='bar')\n",
    "plt.title('Average Rating per Movie Genre')\n",
    "plt.xlabel('Genre')\n",
    "plt.ylabel('Average Rating')\n",
    "plt.show()\n"
   ]
  },
  {
   "cell_type": "code",
   "execution_count": 99,
   "metadata": {},
   "outputs": [
    {
     "data": {
      "image/png": "[encoded data removed]",
      "text/plain": [
       "<Figure size 720x432 with 1 Axes>"
      ]
     },
     "metadata": {
      "needs_background": "light"
     },
     "output_type": "display_data"
    }
   ],
   "source": [
    "# Convert the 'timestamp' column to a datetime format and extract the year\n",
    "df['year'] = pd.to_datetime(df['timestamp'], unit='s').dt.year\n",
    "\n",
    "# Count the number of ratings for each year\n",
    "ratings_per_year = df.groupby('year').size()\n",
    "\n",
    "# Plot the number of ratings per year as a line chart\n",
    "plt.figure(figsize=(10, 6))\n",
    "ratings_per_year.plot(kind='line')\n",
    "plt.title('Number of Ratings per Year')\n",
    "plt.xlabel('Year')\n",
    "plt.ylabel('Number of Ratings')\n",
    "plt.show()\n"
   ]
  },
  {
   "cell_type": "code",
   "execution_count": 100,
   "metadata": {},
   "outputs": [
    {
     "data": {
      "image/png": "[encoded data removed]",
      "text/plain": [
       "<Figure size 864x432 with 1 Axes>"
      ]
     },
     "metadata": {
      "needs_background": "light"
     },
     "output_type": "display_data"
    }
   ],
   "source": [
    "# Extract the release year from the 'title' column using a regular expression\n",
    "df['release_year'] = df['title'].str.extract(r'\\((\\d{4})\\)').astype(float)\n",
    "\n",
    "# Count the number of movies released in each year\n",
    "movies_per_year = df['release_year'].value_counts().sort_index()\n",
    "\n",
    "# Plot the number of movies released per year as a bar chart\n",
    "plt.figure(figsize=(12, 6))  \n",
    "movies_per_year.plot(kind='bar', width=0.8) \n",
    "plt.title('Number of Movies Released per Year')\n",
    "plt.xlabel('Year')\n",
    "plt.ylabel('Number of Movies')\n",
    "\n",
    "\n",
    "plt.xticks(rotation=45, fontsize=8)\n",
    "plt.locator_params(axis='x', nbins=10)\n",
    "\n",
    "plt.show()\n"
   ]
  },
  {
   "cell_type": "markdown",
   "metadata": {},
   "source": [
    "# svd and knn #"
   ]
  },
  {
   "cell_type": "markdown",
   "metadata": {},
   "source": [
    "#### Preparing Data for Collaborative Filtering with Surprise\n",
    "\n",
    "This section demonstrates how to prepare a dataset for collaborative filtering using the **Surprise** library.\n",
    "\n",
    "1. Import Required Libraries.\n",
    "The Surprise library is used for building, training, and evaluating recommendation \n",
    "\n",
    "2. Prepare the Data\n",
    "- Filter Relevant Columns\n",
    "Extract the necessary columns from the DataFrame df:\n",
    "- Define the Rating Scale\n",
    "In this case, ratings range from 0.5 to 5.0.\n",
    "- Load Data into Surprise\n",
    "Load the filtered data into the Surprise Dataset object to prepare it for modeling.\n",
    "3. Step 3: Split the Dataset\n",
    "Split the dataset into training and testing sets:\n",
    "\n",
    "- Training Set: Used to train the recommendation models.\n",
    "- Testing Set: Used to evaluate the models' performance.\n",
    "- The split is performed with an 80-20 ratio, and a fixed random seed (random_state=42) ensures reproducibility.\n",
    "4.  Initialize Recommendation Models\n",
    "Two collaborative filtering models are initialized:\n",
    "\n",
    "- SVD (Singular Value Decomposition): A matrix factorization technique.\n",
    "- KNN (K-Nearest Neighbors): A memory-based approach for finding similar users or items.\n",
    "5. Train the Models\n",
    "6. Make Predictions.\n",
    "7. Evaluate the Models\n",
    "Evaluate the models' performance using RMSE (Root Mean Squared Error) and MAE (Mean Absolute Error)."
   ]
  },
  {
   "cell_type": "code",
   "execution_count": 101,
   "metadata": {},
   "outputs": [],
   "source": [
    "from surprise import Reader\n",
    "from surprise import Dataset\n",
    "# Filter relevant columns for collaborative filtering\n",
    "ratings_data = df[['userId', 'movieId', 'rating']]\n",
    "\n",
    "# Define the rating scale for the Surprise library\n",
    "reader = Reader(rating_scale=(0.5, 5.0))\n",
    "\n",
    "# Load data into the Surprise library\n",
    "dataset = Dataset.load_from_df(ratings_data, reader)"
   ]
  },
  {
   "cell_type": "code",
   "execution_count": 102,
   "metadata": {},
   "outputs": [],
   "source": [
    "# Split the dataset into training and testing sets\n",
    "trainset, testset = train_test_split(dataset,test_size=0.2,random_state=42)\n"
   ]
  },
  {
   "cell_type": "code",
   "execution_count": 103,
   "metadata": {},
   "outputs": [],
   "source": [
    "# Initialize SVD model\n",
    "svd_model = SVD()\n",
    "\n",
    "# Initialize KNN model\n",
    "knn_model = KNNBasic()\n",
    "\n"
   ]
  },
  {
   "cell_type": "code",
   "execution_count": 104,
   "metadata": {},
   "outputs": [
    {
     "name": "stdout",
     "output_type": "stream",
     "text": [
      "Computing the msd similarity matrix...\n",
      "Done computing similarity matrix.\n"
     ]
    },
    {
     "data": {
      "text/plain": [
       "<surprise.prediction_algorithms.knns.KNNBasic at 0x191184f9eb0>"
      ]
     },
     "execution_count": 104,
     "metadata": {},
     "output_type": "execute_result"
    }
   ],
   "source": [
    "# Train models\n",
    "svd_model.fit(trainset)\n",
    "knn_model.fit(trainset)"
   ]
  },
  {
   "cell_type": "code",
   "execution_count": 105,
   "metadata": {},
   "outputs": [],
   "source": [
    "# Make predictions\n",
    "svd_predictions = svd_model.test(testset)\n",
    "knn_predictions = knn_model.test(testset)"
   ]
  },
  {
   "cell_type": "code",
   "execution_count": 106,
   "metadata": {},
   "outputs": [],
   "source": [
    "# Import the accuracy module from the surprise library\n",
    "from surprise import accuracy"
   ]
  },
  {
   "cell_type": "code",
   "execution_count": 107,
   "metadata": {},
   "outputs": [
    {
     "name": "stdout",
     "output_type": "stream",
     "text": [
      "svd metrics\n",
      "RMSE: 0.8700\n",
      "MAE:  0.6681\n",
      "knn metrics\n",
      "RMSE: 0.9414\n",
      "MAE:  0.7193\n"
     ]
    }
   ],
   "source": [
    "# Store results in variables\n",
    "print(\"svd metrics\")\n",
    "svd_rmse = accuracy.rmse(svd_predictions)\n",
    "svd_mae = accuracy.mae(svd_predictions)\n",
    "\n",
    "print(\"knn metrics\")\n",
    "knn_rmse = accuracy.rmse(knn_predictions)\n",
    "knn_mae = accuracy.mae(knn_predictions)\n",
    "\n"
   ]
  },
  {
   "cell_type": "markdown",
   "metadata": {},
   "source": [
    "SVD Model:\n",
    "- RMSE: 0.8688\n",
    "  - Indicates that the average error between the predicted and actual ratings is approximately 0.87 on a scale of 0.5 to 5.0.\n",
    "- MAE: 0.6681\n",
    "  - Shows that the mean absolute difference between predicted and actual ratings is around 0.67.\n",
    "KNN Model:\n",
    "- RMSE: 0.9414\n",
    "  - Suggests an average error of about 0.94 in predicted ratings.\n",
    "- MAE: 0.7193\n",
    "  - Indicates a mean absolute error of approximately 0.72.\n",
    "Insights:\n",
    "1. SVD Outperforms KNN:\n",
    "- The SVD model has lower RMSE and MAE values, suggesting it provides more accurate predictions compared to the KNN model.\n",
    "2. Error Margins:\n",
    "- Both models achieve relatively small error margins, demonstrating their ability to predict user ratings reasonably well.\n"
   ]
  },
  {
   "cell_type": "code",
   "execution_count": 108,
   "metadata": {},
   "outputs": [
    {
     "name": "stdout",
     "output_type": "stream",
     "text": [
      "0.8700350815291802\n"
     ]
    }
   ],
   "source": [
    "# print svd_rmse\n",
    "print(svd_rmse)\n"
   ]
  },
  {
   "cell_type": "markdown",
   "metadata": {},
   "source": [
    "This result indicates that the SVD model has an RMSE of approximately 0.869, meaning the average difference between predicted and actual ratings is around 0.87."
   ]
  },
  {
   "cell_type": "code",
   "execution_count": 109,
   "metadata": {},
   "outputs": [
    {
     "name": "stdout",
     "output_type": "stream",
     "text": [
      "0.9413500296971693\n"
     ]
    }
   ],
   "source": [
    "# print knn_rmse\n",
    "print(knn_rmse)"
   ]
  },
  {
   "cell_type": "markdown",
   "metadata": {},
   "source": [
    "This result shows that the KNN model has an RMSE of about 0.941, suggesting a slightly higher average error compared to the SVD model."
   ]
  },
  {
   "cell_type": "markdown",
   "metadata": {},
   "source": [
    "- The SVD model has a lower RMSE, indicating it provides slightly more accurate predictions than the KNN model in this evaluation.\n",
    "- Both values represent the models' average prediction error on a scale from 0.5 to 5.0."
   ]
  },
  {
   "cell_type": "markdown",
   "metadata": {},
   "source": [
    "## svd"
   ]
  },
  {
   "cell_type": "code",
   "execution_count": 110,
   "metadata": {},
   "outputs": [],
   "source": [
    "# Define a dictionary of hyperparameters and their possible values for grid search\n",
    "param_grid = {\n",
    "    'n_factors': [50, 100],\n",
    "    'lr_all': [0.005, 0.01],\n",
    "    'reg_all': [0.02, 0.05],\n",
    "    'n_epochs': [10, 20, 30]  \n",
    "}"
   ]
  },
  {
   "cell_type": "code",
   "execution_count": 111,
   "metadata": {},
   "outputs": [],
   "source": [
    "# Import the GridSearchCV class from the model_selection module of Surprise\n",
    "from surprise.model_selection import GridSearchCV"
   ]
  },
  {
   "cell_type": "code",
   "execution_count": 112,
   "metadata": {},
   "outputs": [],
   "source": [
    "# # Perform grid search\n",
    "# grid_search = GridSearchCV(SVD, param_grid=param_grid, cv=3)\n",
    "\n",
    "# grid_search.fit(dataset)\n"
   ]
  },
  {
   "cell_type": "code",
   "execution_count": 113,
   "metadata": {},
   "outputs": [],
   "source": [
    "# # Get the best score and parameters\n",
    "# print(\"Best RMSE score:\", grid_search.best_score['rmse'])\n",
    "# print(\"Best parameters:\", grid_search.best_params['rmse'])"
   ]
  },
  {
   "cell_type": "markdown",
   "metadata": {},
   "source": [
    "- This result shows that the best RMSE score achieved through the grid search is approximately 0.867. A lower RMSE indicates better performance in terms of prediction accuracy\n",
    "- These are the best hyperparameters found by the grid search:\n",
    "  - n_factors: 100 — The number of latent factors for matrix factorization.\n",
    "  - lr_all: 0.01 — The learning rate for all parameters.\n",
    "  - reg_all: 0.05 — The regularization strength for all parameters.\n",
    "  - n_epochs: 30 — The number of epochs for training the model."
   ]
  },
  {
   "cell_type": "markdown",
   "metadata": {},
   "source": [
    "- The grid search has identified the optimal hyperparameters for the SVD model, which led to the best RMSE score of 0.867.\n",
    "- Tuning these parameters has significantly improved the model's performance in predicting ratings."
   ]
  },
  {
   "cell_type": "code",
   "execution_count": 114,
   "metadata": {},
   "outputs": [
    {
     "data": {
      "text/plain": [
       "<surprise.prediction_algorithms.matrix_factorization.SVD at 0x19119a3a310>"
      ]
     },
     "execution_count": 114,
     "metadata": {},
     "output_type": "execute_result"
    }
   ],
   "source": [
    "# Create an instance of the SVD model with hyperparameters:\n",
    "svd_final = SVD(n_factors= 100, reg_all= 0.05, n_epochs= 30, lr_all= 0.01)\n",
    "\n",
    "# Fit the model to the training dataset (trainset)\n",
    "svd_final.fit(trainset)"
   ]
  },
  {
   "cell_type": "code",
   "execution_count": 115,
   "metadata": {},
   "outputs": [],
   "source": [
    "# Define the parameter grid for KNNBasic\n",
    "param_grid_knn_basic = {\"k\": list(range(5, 100, 5))}\n"
   ]
  },
  {
   "cell_type": "code",
   "execution_count": 116,
   "metadata": {},
   "outputs": [],
   "source": [
    "# # Initialize the GridSearchCV with KNNBasic and the parameter grid\n",
    "# grid_search_knn_basic = GridSearchCV(KNNBasic, param_grid_knn_basic, measures=['rmse'], cv=10)\n",
    "# # Load your dataset (assuming 'data' is already prepared as a Surprise Dataset object)\n",
    "# grid_search_knn_basic.fit(dataset)\n"
   ]
  },
  {
   "cell_type": "code",
   "execution_count": 117,
   "metadata": {},
   "outputs": [],
   "source": [
    "# # Check the best parameters and best RMSE\n",
    "# print(\"Best parameters found:\", grid_search_knn_basic.best_params)\n",
    "# print(\"Best RMSE:\", grid_search_knn_basic.best_score)"
   ]
  },
  {
   "cell_type": "markdown",
   "metadata": {},
   "source": [
    "- The best parameter found for the KNN model is k = 15, meaning that the number of neighbors considered in the KNN algorithm is 15.\n",
    "- The best RMSE achieved during the grid search is approximately 0.931, indicating the average error between predicted and actual ratings.\n",
    "\n",
    "- The grid search process has found the optimal KNN model hyperparameter (k=15), leading to the best RMSE of approximately 0.931.\n",
    "- The result suggests that the KNN model performs reasonably well, but further adjustments may still improve its performance."
   ]
  },
  {
   "cell_type": "code",
   "execution_count": 118,
   "metadata": {},
   "outputs": [],
   "source": [
    "import numpy as np\n",
    "from surprise.model_selection import cross_validate"
   ]
  },
  {
   "cell_type": "code",
   "execution_count": 119,
   "metadata": {},
   "outputs": [],
   "source": [
    "# Define the methods and user_base values for testing\n",
    "#methods = [\"cosine\", \"pearson\", \"pearson_baseline\", \"msd\"]\n",
    "#user_base = [False, True]\n",
    "\n",
    "# Iterate over different similarity methods and user-based filtering options\n",
    "#for m in methods:\n",
    "    #for u in user_base:\n",
    "        # Perform cross-validation with KNNBasic and the current configuration\n",
    "        #knn_basic = cross_validate(KNNBasic(k=30, sim_options={\"name\": m, \"user_based\": u}, verbose=False), dataset, cv=5)\n",
    "        \n",
    "        # Calculate and print the mean RMSE\n",
    "       # rmse_mean = np.mean(knn_basic[\"test_rmse\"])\n",
    "        #print(f\"The mean RMSE of the KNNBasic model with {m} similarity and user-based {u} is {rmse_mean}\")"
   ]
  },
  {
   "cell_type": "markdown",
   "metadata": {},
   "source": [
    "we will use the peason baseline similarity for the item based(user based false)..which is the best performing at  0.9180227395332414"
   ]
  },
  {
   "cell_type": "code",
   "execution_count": 120,
   "metadata": {},
   "outputs": [
    {
     "name": "stdout",
     "output_type": "stream",
     "text": [
      "Estimating biases using als...\n",
      "Computing the pearson_baseline similarity matrix...\n",
      "Done computing similarity matrix.\n"
     ]
    },
    {
     "data": {
      "text/plain": [
       "<surprise.prediction_algorithms.knns.KNNBasic at 0x19119a3aa30>"
      ]
     },
     "execution_count": 120,
     "metadata": {},
     "output_type": "execute_result"
    }
   ],
   "source": [
    "# Initialize the KNNBasic model with the desired configuration\n",
    "knn_basic_final = KNNBasic(k=15, sim_options={\"name\": \"pearson_baseline\", \"user_based\": False})\n",
    "\n",
    "# Fit the model to the dataset\n",
    "knn_basic_final.fit(trainset)"
   ]
  },
  {
   "cell_type": "code",
   "execution_count": 121,
   "metadata": {},
   "outputs": [
    {
     "data": {
      "text/html": [
       "<div>\n",
       "<style scoped>\n",
       "    .dataframe tbody tr th:only-of-type {\n",
       "        vertical-align: middle;\n",
       "    }\n",
       "\n",
       "    .dataframe tbody tr th {\n",
       "        vertical-align: top;\n",
       "    }\n",
       "\n",
       "    .dataframe thead th {\n",
       "        text-align: right;\n",
       "    }\n",
       "</style>\n",
       "<table border=\"1\" class=\"dataframe\">\n",
       "  <thead>\n",
       "    <tr style=\"text-align: right;\">\n",
       "      <th></th>\n",
       "      <th>userId</th>\n",
       "      <th>movieId</th>\n",
       "      <th>rating</th>\n",
       "      <th>title</th>\n",
       "    </tr>\n",
       "  </thead>\n",
       "  <tbody>\n",
       "    <tr>\n",
       "      <th>0</th>\n",
       "      <td>1</td>\n",
       "      <td>1</td>\n",
       "      <td>4.0</td>\n",
       "      <td>Toy Story (1995)</td>\n",
       "    </tr>\n",
       "  </tbody>\n",
       "</table>\n",
       "</div>"
      ],
      "text/plain": [
       "   userId  movieId  rating             title\n",
       "0       1        1     4.0  Toy Story (1995)"
      ]
     },
     "execution_count": 121,
     "metadata": {},
     "output_type": "execute_result"
    }
   ],
   "source": [
    "# Filter the DataFrame 'df' for rows where 'userId' is equal to 1 and 'movieId' is equal to 1\n",
    "df[(df['userId'] == 1) & (df['movieId'] == 1)][['userId', 'movieId', 'rating', 'title']]"
   ]
  },
  {
   "cell_type": "markdown",
   "metadata": {},
   "source": [
    "This code filters the DataFrame df to find the row where the userId is 1 and the movieId is 1, and it displays specific columns (userId, movieId, rating, and title) for that entry."
   ]
  },
  {
   "cell_type": "code",
   "execution_count": 122,
   "metadata": {},
   "outputs": [
    {
     "name": "stdout",
     "output_type": "stream",
     "text": [
      "Predicted rating for user 1 on 'Toy Story (1995)' is: 4.25\n"
     ]
    }
   ],
   "source": [
    "# Make a prediction for a specific user and movie\n",
    "prediction = knn_basic_final.predict(uid=1, iid=1)\n",
    "\n",
    "# Extract the movie title for movieId 47\n",
    "movie_title = df.loc[df['movieId'] == 1, 'title'].iloc[0]\n",
    "\n",
    "# Display the prediction\n",
    "print(f\"Predicted rating for user 1 on '{movie_title}' is: {prediction.est:.2f}\")"
   ]
  },
  {
   "cell_type": "markdown",
   "metadata": {},
   "source": [
    "The model predicts a rating of 4.25 for user 1 on \"Toy Story (1995)\" based on the collaborative filtering method (KNN model)."
   ]
  },
  {
   "cell_type": "code",
   "execution_count": 123,
   "metadata": {},
   "outputs": [
    {
     "name": "stdout",
     "output_type": "stream",
     "text": [
      "Predicted rating for user 1 on 'Toy Story (1995)' is: 4.24\n"
     ]
    }
   ],
   "source": [
    "# Predict the rating for user 1 on movie 1 using SVD\n",
    "predictionsvd = svd_final.predict(uid=1, iid=1)\n",
    "\n",
    "# Display the prediction\n",
    "print(f\"Predicted rating for user 1 on '{movie_title}' is: {predictionsvd.est:.2f}\")"
   ]
  },
  {
   "cell_type": "markdown",
   "metadata": {},
   "source": [
    "The model predicts a slightly higher rating of 4.39 for user 1 on \"Toy Story (1995)\" compared to the KNN model (which predicted 4.25"
   ]
  },
  {
   "cell_type": "code",
   "execution_count": 124,
   "metadata": {},
   "outputs": [],
   "source": [
    "# Define a function to get top movie recommendations for a given user\n",
    "def get_top_recommendations(user_id, svd_model, movies_df, ratings_df, top_n=5):\n",
    "\n",
    "    # Getting all movies the user has already rated, then getting all movies and movies that haven't been rated by the user\n",
    "    user_rated_movies = ratings_df[ratings_df['userId'] == user_id]['movieId'].unique()\n",
    "    all_movies = movies_df['movieId'].unique()\n",
    "    unrated_movies = [movie for movie in all_movies if movie not in user_rated_movies]\n",
    "\n",
    "    # Predicting ratings for unrated movies\n",
    "    predictions = []\n",
    "    for movie_id in unrated_movies:\n",
    "        pred = svd_model.predict(uid=user_id, iid=movie_id)\n",
    "        predictions.append((movie_id, pred.est))  \n",
    "        \n",
    "    # Sorting predictions by rating in descending order\n",
    "    # top-n movie IDs\n",
    "    top_movies = sorted(predictions, key=lambda x: x[1], reverse=True)[:top_n]\n",
    "\n",
    "    \n",
    "    # getting movie details\n",
    "    recommended_movies = movies_df[movies_df['movieId'].isin([movie[0] for movie in top_movies])]\n",
    "\n",
    "    recommended_movies['predicted_rating'] = [movie[1] for movie in top_movies]\n",
    "\n",
    "    # Return the recommendations as a DataFrame\n",
    "    return recommended_movies[['title', 'genres', 'predicted_rating']].sort_values(by='predicted_rating', ascending=False)"
   ]
  },
  {
   "cell_type": "code",
   "execution_count": 125,
   "metadata": {},
   "outputs": [
    {
     "name": "stdout",
     "output_type": "stream",
     "text": [
      "Top 5 recommendations for user 1:\n",
      "\n",
      "- Shawshank Redemption, The (1994) (Crime|Drama) with a predicted rating of 5.00\n",
      "- Notorious (1946) (Film-Noir|Romance|Thriller) with a predicted rating of 5.00\n",
      "- Streetcar Named Desire, A (1951) (Drama) with a predicted rating of 5.00\n",
      "- One Flew Over the Cuckoo's Nest (1975) (Drama) with a predicted rating of 5.00\n",
      "- Cool Hand Luke (1967) (Drama) with a predicted rating of 5.00\n"
     ]
    },
    {
     "name": "stderr",
     "output_type": "stream",
     "text": [
      "<ipython-input-124-50a0b1eef89a>:23: SettingWithCopyWarning: \n",
      "A value is trying to be set on a copy of a slice from a DataFrame.\n",
      "Try using .loc[row_indexer,col_indexer] = value instead\n",
      "\n",
      "See the caveats in the documentation: https://pandas.pydata.org/pandas-docs/stable/user_guide/indexing.html#returning-a-view-versus-a-copy\n",
      "  recommended_movies['predicted_rating'] = [movie[1] for movie in top_movies]\n"
     ]
    }
   ],
   "source": [
    "#  generating recommendations\n",
    "user_id = 1\n",
    "top_n = 5\n",
    "\n",
    "# Get the top recommendations\n",
    "recommendations = get_top_recommendations(user_id, svd_model, movies_df, ratings_df, top_n=top_n)\n",
    "\n",
    "# Print the recommendations\n",
    "print(f\"Top {top_n} recommendations for user {user_id}:\\n\")\n",
    "for idx, row in recommendations.iterrows():\n",
    "    print(f\"- {row['title']} ({row['genres']}) with a predicted rating of {row['predicted_rating']:.2f}\")\n"
   ]
  },
  {
   "cell_type": "markdown",
   "metadata": {},
   "source": [
    "- Top Recommendations: The top 5 recommendations for user 1 are all highly-rated movies, with a predicted rating of 5.00 for each. These recommendations span across various genres, including Crime, Drama, Comedy, Mystery, and more.\n",
    "- The system successfully generates movie recommendations based on collaborative filtering using the SVD model and provides the predicted ratings for each recommended movie."
   ]
  },
  {
   "cell_type": "markdown",
   "metadata": {},
   "source": [
    "## content based"
   ]
  },
  {
   "cell_type": "code",
   "execution_count": 126,
   "metadata": {},
   "outputs": [],
   "source": [
    "# Import the TfidfVectorizer class from sklearn.feature_extraction.text\n",
    "from sklearn.feature_extraction.text import TfidfVectorizer\n",
    "\n",
    "# Import cosine_similarity function from sklearn.metrics.pairwise\n",
    "from sklearn.metrics.pairwise import cosine_similarity"
   ]
  },
  {
   "cell_type": "code",
   "execution_count": 127,
   "metadata": {},
   "outputs": [],
   "source": [
    "# Preprocesing the genres column\n",
    "movies_df['genres'] = movies_df['genres'].str.replace(\"|\",\" \")\n",
    "movies_df.head()\n",
    "# creating a matrix\n",
    "vectorizer = TfidfVectorizer(stop_words='english')\n",
    "tfidf_matrix = vectorizer.fit_transform(movies_df['genres'])"
   ]
  },
  {
   "cell_type": "code",
   "execution_count": 128,
   "metadata": {},
   "outputs": [
    {
     "data": {
      "text/plain": [
       "(9742, 23)"
      ]
     },
     "execution_count": 128,
     "metadata": {},
     "output_type": "execute_result"
    }
   ],
   "source": [
    "# Get the dimensions of the tfidf_matrix\n",
    "tfidf_matrix.shape"
   ]
  },
  {
   "cell_type": "code",
   "execution_count": 129,
   "metadata": {},
   "outputs": [
    {
     "data": {
      "text/plain": [
       "(9742, 9742)"
      ]
     },
     "execution_count": 129,
     "metadata": {},
     "output_type": "execute_result"
    }
   ],
   "source": [
    "#Computing the cosine similarity matrix\n",
    "cosine_sim = cosine_similarity(tfidf_matrix, tfidf_matrix)\n",
    "cosine_sim.shape"
   ]
  },
  {
   "cell_type": "code",
   "execution_count": 130,
   "metadata": {},
   "outputs": [],
   "source": [
    "def recommend_movies(movie_title, df=movies_df, cosine_sim=cosine_sim, top_n=5):\n",
    "    \"\"\"\n",
    "    Recommend movies based on the given movie title.\n",
    "    \n",
    "    Parameters:\n",
    "        movie_title (str): Title (or part of title) of the movie to base recommendations on.\n",
    "        df (pd.DataFrame): The movies DataFrame containing 'title' and 'genres'.\n",
    "        cosine_sim (ndarray): Precomputed cosine similarity matrix.\n",
    "        top_n (int): Number of recommendations to return.\n",
    "    \n",
    "    Returns:\n",
    "        pd.DataFrame: DataFrame with titles and genres of recommended movies.\n",
    "    \"\"\"\n",
    "\n",
    "    # Search for movies in the DataFrame where the 'title' contains the input movie_title\n",
    "    matches = df[df['title'].str.contains(movie_title, case=False)]\n",
    "    \n",
    "    if matches.empty:\n",
    "        return f\"Movie '{movie_title}' not found in the dataset.\"\n",
    "    \n",
    "     # Get the index of the first matching movie\n",
    "    idx = matches.index[0]  \n",
    "\n",
    "    # Get the cosine similarity scores between the input movie (idx) and all other movies\n",
    "    sim_scores = list(enumerate(cosine_sim[idx]))\n",
    "\n",
    "    # Sort the similarity scores in descending order, so the most similar movies come first\n",
    "    sim_scores = sorted(sim_scores, key=lambda x: x[1], reverse=True)\n",
    "\n",
    "    # Get the indices of the top-n movies\n",
    "    sim_scores = sim_scores[1:top_n + 1]  \n",
    "    movie_indices = [i[0] for i in sim_scores]\n",
    "\n",
    "   # Fetch the titles and genres of the recommended movies based on the indices\n",
    "    top_movies = df.iloc[movie_indices][['title', 'genres']].reset_index(drop=True)\n",
    "     # Reset the index of the result so that the top recommendation starts from index 1\n",
    "    top_movies.index = range(1, top_n + 1)  \n",
    "    \n",
    "    return top_movies"
   ]
  },
  {
   "cell_type": "code",
   "execution_count": 131,
   "metadata": {},
   "outputs": [
    {
     "name": "stdout",
     "output_type": "stream",
     "text": [
      "                                           title                   genres\n",
      "1  Sunset Blvd. (a.k.a. Sunset Boulevard) (1950)  Drama Film-Noir Romance\n",
      "2                          Mildred Pierce (1945)          Drama Film-Noir\n",
      "3       Strange Love of Martha Ivers, The (1946)          Drama Film-Noir\n",
      "4                  Sweet Smell of Success (1957)          Drama Film-Noir\n",
      "5                   Harder They Fall, The (1956)          Drama Film-Noir\n"
     ]
    }
   ],
   "source": [
    "# print recommend_movies\n",
    "print(recommend_movies(\"Eva\"))"
   ]
  },
  {
   "cell_type": "code",
   "execution_count": 132,
   "metadata": {},
   "outputs": [],
   "source": [
    "def hybrid_recommendations(user_id, movie_title, svd_model, movies_df, ratings_df, cosine_sim, top_n=5):\n",
    "    \"\"\"\n",
    "    Generate hybrid movie recommendations using SVD (collaborative filtering) \n",
    "    and cosine similarity (content-based filtering).\n",
    "    \n",
    "    Parameters:\n",
    "        user_id (int): The ID of the user.\n",
    "        movie_title (str): Title (or part of title) of the movie for content-based recommendations.\n",
    "        svd_model: Trained SVD model for collaborative filtering.\n",
    "        movies_df (pd.DataFrame): DataFrame with movie details (movieId, title, genres).\n",
    "        ratings_df (pd.DataFrame): DataFrame with user ratings (userId, movieId, rating).\n",
    "        cosine_sim (ndarray): Precomputed cosine similarity matrix for content-based filtering.\n",
    "        top_n (int): Number of recommendations to return from each method.\n",
    "    \n",
    "    Returns:\n",
    "        pd.DataFrame: DataFrame with combined hybrid recommendations.\n",
    "    \"\"\"\n",
    "   # Collaborative Filtering Recommendations\n",
    "    cf_recommendations = pd.DataFrame()\n",
    "    if user_id and user_id in ratings_df['userId'].unique():\n",
    "        cf_recommendations = get_top_recommendations(user_id, svd_model, movies_df, ratings_df, top_n)\n",
    "        cf_recommendations['source'] = 'Collaborative Filtering'\n",
    "    else:\n",
    "        # Handling cold-start\n",
    "        cf_recommendations = pd.DataFrame(columns=['title', 'genres', 'predicted_rating', 'source'])\n",
    "\n",
    "    #  Content-Based Recommendations\n",
    "    cb_recommendations = recommend_movies(movie_title, df=movies_df, cosine_sim=cosine_sim, top_n=top_n)\n",
    "    if isinstance(cb_recommendations, str):  # Handle case when movie_title is not found\n",
    "        cb_recommendations = pd.DataFrame(columns=['title', 'genres', 'source', 'predicted_rating'])\n",
    "    else:\n",
    "        cb_recommendations['source'] = 'Content-Based Filtering'\n",
    "        cb_recommendations['predicted_rating'] = None  # No predicted rating for content-based\n",
    "\n",
    "    # Combining Both Recommendations\n",
    "    combined_recommendations = pd.concat(\n",
    "        [cf_recommendations, cb_recommendations],\n",
    "        ignore_index=True\n",
    "    ).drop_duplicates(subset='title') \n",
    "\n",
    "    # Sorting Combined Recommendations\n",
    "    combined_recommendations['predicted_rating'] = combined_recommendations['predicted_rating'].fillna(0)\n",
    "    combined_recommendations = combined_recommendations.sort_values(\n",
    "        by='predicted_rating', ascending=False, na_position='last'\n",
    "    ).head(top_n)\n",
    "\n",
    "    combined_recommendations.index = range(1, len(combined_recommendations) + 1)\n",
    "\n",
    "    return combined_recommendations[['title', 'genres', 'predicted_rating', 'source']]\n"
   ]
  },
  {
   "cell_type": "code",
   "execution_count": 133,
   "metadata": {},
   "outputs": [
    {
     "name": "stdout",
     "output_type": "stream",
     "text": [
      "Top 5 hybrid recommendations for User 1 based on the movie 'Inception':\n",
      "\n",
      "1. Shawshank Redemption, The (1994) (Predicted Rating: 5.00)\n",
      "2. Notorious (1946) (Predicted Rating: 5.00)\n",
      "3. Streetcar Named Desire, A (1951) (Predicted Rating: 5.00)\n",
      "4. One Flew Over the Cuckoo's Nest (1975) (Predicted Rating: 5.00)\n",
      "5. Cool Hand Luke (1967) (Predicted Rating: 5.00)\n"
     ]
    },
    {
     "name": "stderr",
     "output_type": "stream",
     "text": [
      "<ipython-input-124-50a0b1eef89a>:23: SettingWithCopyWarning: \n",
      "A value is trying to be set on a copy of a slice from a DataFrame.\n",
      "Try using .loc[row_indexer,col_indexer] = value instead\n",
      "\n",
      "See the caveats in the documentation: https://pandas.pydata.org/pandas-docs/stable/user_guide/indexing.html#returning-a-view-versus-a-copy\n",
      "  recommended_movies['predicted_rating'] = [movie[1] for movie in top_movies]\n"
     ]
    }
   ],
   "source": [
    "#  hybrid_recommendations function\n",
    "user_id = 1  # Example user ID\n",
    "movie_title = \"Inception\"  # Example movie title\n",
    "top_n = 5  # Number of recommendations to generate\n",
    "\n",
    "# Generate hybrid recommendations\n",
    "recommendations = hybrid_recommendations(\n",
    "    user_id=user_id,\n",
    "    movie_title=movie_title,\n",
    "    svd_model=svd_model,\n",
    "    movies_df=movies_df,\n",
    "    ratings_df=ratings_df,\n",
    "    cosine_sim=cosine_sim,\n",
    "    top_n=top_n\n",
    ")\n",
    "\n",
    "\n",
    "# Display only the top 5 recommendations\n",
    "top_5_recommendations = recommendations.head(5)\n",
    "\n",
    "print(f\"Top 5 hybrid recommendations for User {user_id} based on the movie '{movie_title}':\\n\")\n",
    "for index, row in top_5_recommendations.iterrows():\n",
    "    print(f\"{index}. {row['title']} (Predicted Rating: {row['predicted_rating']:.2f})\")\n",
    "\n"
   ]
  },
  {
   "cell_type": "markdown",
   "metadata": {},
   "source": [
    "- Top Recommendations: The top 5 hybrid recommendations for user 1 based on \"Inception\" have all been predicted with a rating of 5.00. These recommendations are diverse, spanning across genres like Crime, Drama, Comedy, Mystery, and more.\n",
    "- The hybrid recommendation system successfully combines both collaborative filtering and content-based filtering techniques, generating top 5 movie recommendations for the user with predicted ratings."
   ]
  },
  {
   "cell_type": "code",
   "execution_count": 134,
   "metadata": {},
   "outputs": [
    {
     "data": {
      "text/plain": [
       "['collaborative_similarity.pkl']"
      ]
     },
     "execution_count": 134,
     "metadata": {},
     "output_type": "execute_result"
    }
   ],
   "source": [
    "import joblib\n",
    "\n",
    "# Save the movies dataframe as a CSV file\n",
    "movies_df.to_csv('movies_data.csv', index=False)\n",
    "\n",
    "# Save the content similarity matrix\n",
    "joblib.dump(cosine_sim, 'content_similarity.pkl')\n",
    "\n",
    "# Save the collaborative similarity matrix\n",
    "joblib.dump(svd_final, 'collaborative_similarity.pkl')"
   ]
  },
  {
   "cell_type": "code",
   "execution_count": null,
   "metadata": {},
   "outputs": [],
   "source": []
  }
 ],
 "metadata": {
  "kernelspec": {
   "display_name": "learn-env",
   "language": "python",
   "name": "python3"
  },
  "language_info": {
   "codemirror_mode": {
    "name": "ipython",
    "version": 3
   },
   "file_extension": ".py",
   "mimetype": "text/x-python",
   "name": "python",
   "nbconvert_exporter": "python",
   "pygments_lexer": "ipython3",
   "version": "3.8.5"
  }
 },
 "nbformat": 4,
 "nbformat_minor": 2
}
